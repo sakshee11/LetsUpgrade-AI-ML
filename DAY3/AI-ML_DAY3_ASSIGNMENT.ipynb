{
 "cells": [
  {
   "cell_type": "markdown",
   "metadata": {},
   "source": [
    "# QUE 1"
   ]
  },
  {
   "cell_type": "code",
   "execution_count": 3,
   "metadata": {},
   "outputs": [
    {
     "name": "stdout",
     "output_type": "stream",
     "text": [
      "(-1+0j)\n"
     ]
    }
   ],
   "source": [
    "a = 1 + 4j\n",
    "b = 2 + 4j\n",
    "c = a - b\n",
    "print(c)"
   ]
  },
  {
   "cell_type": "markdown",
   "metadata": {},
   "source": [
    "# QUE 2"
   ]
  },
  {
   "cell_type": "code",
   "execution_count": 4,
   "metadata": {},
   "outputs": [
    {
     "name": "stdout",
     "output_type": "stream",
     "text": [
      "2.0\n"
     ]
    }
   ],
   "source": [
    "a = 16\n",
    "b = a**0.25\n",
    "print(b)"
   ]
  },
  {
   "cell_type": "markdown",
   "metadata": {},
   "source": [
    "# QUE 3"
   ]
  },
  {
   "cell_type": "code",
   "execution_count": 5,
   "metadata": {},
   "outputs": [
    {
     "name": "stdout",
     "output_type": "stream",
     "text": [
      "a= 2   b= 3\n",
      "a= 3   b= 2\n"
     ]
    }
   ],
   "source": [
    "a = 2\n",
    "b = 3\n",
    "print(\"a=\",a,\"  b=\",b)\n",
    "c = a\n",
    "a = b\n",
    "b = c\n",
    "print(\"a=\",a,\"  b=\",b)"
   ]
  },
  {
   "cell_type": "markdown",
   "metadata": {},
   "source": [
    "# QUE 4"
   ]
  },
  {
   "cell_type": "code",
   "execution_count": 11,
   "metadata": {},
   "outputs": [
    {
     "name": "stdout",
     "output_type": "stream",
     "text": [
      "a= 2   b= 3\n",
      "a= 3   b= 2\n"
     ]
    }
   ],
   "source": [
    "a = 2\n",
    "b = 3\n",
    "print(\"a=\",a,\"  b=\",b)\n",
    "a = int(a*b)\n",
    "b = int(a/b)\n",
    "a = int(a/b)\n",
    "print(\"a=\",a,\"  b=\",b)"
   ]
  },
  {
   "cell_type": "markdown",
   "metadata": {},
   "source": [
    "# QUE 5"
   ]
  },
  {
   "cell_type": "code",
   "execution_count": 13,
   "metadata": {},
   "outputs": [
    {
     "name": "stdout",
     "output_type": "stream",
     "text": [
      "F= 89.0   C= 31.666666666666668   K= 304.81666666666666\n"
     ]
    }
   ],
   "source": [
    "F = 89.0\n",
    "C = (F-32)*5/9\n",
    "K = C + 273.15\n",
    "print(\"F=\",F,\"  C=\",C,\"  K=\",K)"
   ]
  },
  {
   "cell_type": "markdown",
   "metadata": {},
   "source": [
    "# QUE 6"
   ]
  },
  {
   "cell_type": "code",
   "execution_count": 21,
   "metadata": {},
   "outputs": [
    {
     "name": "stdout",
     "output_type": "stream",
     "text": [
      "a= <class 'int'>\n",
      "b= <class 'float'>\n",
      "c= <class 'complex'>\n",
      "d= <class 'str'>\n",
      "e= <class 'list'>\n",
      "f= <class 'dict'>\n",
      "g= <class 'tuple'>\n",
      "h= <class 'set'>\n",
      "i= <class 'bool'>\n",
      "j= <class 'bytes'>\n"
     ]
    }
   ],
   "source": [
    "a=2\n",
    "print(\"a=\",type(a))\n",
    "b=2.0\n",
    "print(\"b=\",type(b))\n",
    "c=2+2j\n",
    "print(\"c=\",type(c))\n",
    "d=\"Hey\"\n",
    "print(\"d=\",type(d))\n",
    "e=[\"hello\"]\n",
    "print(\"e=\",type(e))\n",
    "f={\"hey\":\"hello\"}\n",
    "print(\"f=\",type(f))\n",
    "g=(1,2,3)\n",
    "print(\"g=\",type(g))\n",
    "h={5,6,7}\n",
    "print(\"h=\",type(h))\n",
    "i=False\n",
    "print(\"i=\",type(i))\n",
    "j=b\"hey\"\n",
    "print(\"j=\",type(j))"
   ]
  },
  {
   "cell_type": "markdown",
   "metadata": {},
   "source": [
    "# QUE 7"
   ]
  },
  {
   "cell_type": "markdown",
   "metadata": {},
   "source": [
    "## Steps to create GitHub profile are as under:\n",
    "> Signup from your email-id and create an userid and password\n",
    "> Login to the account and we are ready to go.\n",
    "\n",
    "## Steps to submit Assignment:\n",
    "> Create a repository in GitHub named LetsUpgrade_AI-ML\n",
    "> Keep it public.\n",
    "> Don't change any settings\n",
    "> Create new folders in the same repository for new day's assignment\n",
    "> Drag and drop the file saved in your device in upload section\n",
    "> Copy and paste the link in the google form provided by LU\n",
    "> Before pasting open the link in incognito mode to check if the file is public or not "
   ]
  },
  {
   "cell_type": "code",
   "execution_count": null,
   "metadata": {},
   "outputs": [],
   "source": []
  }
 ],
 "metadata": {
  "kernelspec": {
   "display_name": "Python 3",
   "language": "python",
   "name": "python3"
  },
  "language_info": {
   "codemirror_mode": {
    "name": "ipython",
    "version": 3
   },
   "file_extension": ".py",
   "mimetype": "text/x-python",
   "name": "python",
   "nbconvert_exporter": "python",
   "pygments_lexer": "ipython3",
   "version": "3.7.6"
  }
 },
 "nbformat": 4,
 "nbformat_minor": 4
}
