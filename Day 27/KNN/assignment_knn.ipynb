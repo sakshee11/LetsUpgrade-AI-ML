{
 "cells": [
  {
   "cell_type": "code",
   "execution_count": 40,
   "metadata": {},
   "outputs": [],
   "source": [
    "import pandas as pd"
   ]
  },
  {
   "cell_type": "code",
   "execution_count": 41,
   "metadata": {},
   "outputs": [],
   "source": [
    "import os\n",
    "os.chdir(r\"C:\\Users\\User\\Desktop\\AI-ML\\Day 27\")"
   ]
  },
  {
   "cell_type": "code",
   "execution_count": 42,
   "metadata": {},
   "outputs": [
    {
     "data": {
      "text/html": [
       "<div>\n",
       "<style scoped>\n",
       "    .dataframe tbody tr th:only-of-type {\n",
       "        vertical-align: middle;\n",
       "    }\n",
       "\n",
       "    .dataframe tbody tr th {\n",
       "        vertical-align: top;\n",
       "    }\n",
       "\n",
       "    .dataframe thead th {\n",
       "        text-align: right;\n",
       "    }\n",
       "</style>\n",
       "<table border=\"1\" class=\"dataframe\">\n",
       "  <thead>\n",
       "    <tr style=\"text-align: right;\">\n",
       "      <th></th>\n",
       "      <th>PassengerId</th>\n",
       "      <th>Survived</th>\n",
       "      <th>Pclass</th>\n",
       "      <th>Name</th>\n",
       "      <th>Sex</th>\n",
       "      <th>Age</th>\n",
       "      <th>SibSp</th>\n",
       "      <th>Parch</th>\n",
       "      <th>Ticket</th>\n",
       "      <th>Fare</th>\n",
       "      <th>Cabin</th>\n",
       "      <th>Embarked</th>\n",
       "    </tr>\n",
       "  </thead>\n",
       "  <tbody>\n",
       "    <tr>\n",
       "      <th>884</th>\n",
       "      <td>887</td>\n",
       "      <td>0</td>\n",
       "      <td>2</td>\n",
       "      <td>Montvila, Rev. Juozas</td>\n",
       "      <td>male</td>\n",
       "      <td>27.0</td>\n",
       "      <td>0</td>\n",
       "      <td>0</td>\n",
       "      <td>211536</td>\n",
       "      <td>13.00</td>\n",
       "      <td>NaN</td>\n",
       "      <td>S</td>\n",
       "    </tr>\n",
       "    <tr>\n",
       "      <th>885</th>\n",
       "      <td>888</td>\n",
       "      <td>1</td>\n",
       "      <td>1</td>\n",
       "      <td>Graham, Miss. Margaret Edith</td>\n",
       "      <td>female</td>\n",
       "      <td>19.0</td>\n",
       "      <td>0</td>\n",
       "      <td>0</td>\n",
       "      <td>112053</td>\n",
       "      <td>30.00</td>\n",
       "      <td>B42</td>\n",
       "      <td>S</td>\n",
       "    </tr>\n",
       "    <tr>\n",
       "      <th>886</th>\n",
       "      <td>889</td>\n",
       "      <td>0</td>\n",
       "      <td>3</td>\n",
       "      <td>Johnston, Miss. Catherine Helen \"Carrie\"</td>\n",
       "      <td>female</td>\n",
       "      <td>45.0</td>\n",
       "      <td>1</td>\n",
       "      <td>2</td>\n",
       "      <td>W./C. 6607</td>\n",
       "      <td>23.45</td>\n",
       "      <td>NaN</td>\n",
       "      <td>S</td>\n",
       "    </tr>\n",
       "    <tr>\n",
       "      <th>887</th>\n",
       "      <td>890</td>\n",
       "      <td>1</td>\n",
       "      <td>1</td>\n",
       "      <td>Behr, Mr. Karl Howell</td>\n",
       "      <td>male</td>\n",
       "      <td>26.0</td>\n",
       "      <td>0</td>\n",
       "      <td>0</td>\n",
       "      <td>111369</td>\n",
       "      <td>30.00</td>\n",
       "      <td>C148</td>\n",
       "      <td>C</td>\n",
       "    </tr>\n",
       "    <tr>\n",
       "      <th>888</th>\n",
       "      <td>891</td>\n",
       "      <td>0</td>\n",
       "      <td>3</td>\n",
       "      <td>Dooley, Mr. Patrick</td>\n",
       "      <td>male</td>\n",
       "      <td>32.0</td>\n",
       "      <td>0</td>\n",
       "      <td>0</td>\n",
       "      <td>370376</td>\n",
       "      <td>7.75</td>\n",
       "      <td>NaN</td>\n",
       "      <td>Q</td>\n",
       "    </tr>\n",
       "  </tbody>\n",
       "</table>\n",
       "</div>"
      ],
      "text/plain": [
       "     PassengerId  Survived  Pclass                                      Name  \\\n",
       "884          887         0       2                     Montvila, Rev. Juozas   \n",
       "885          888         1       1              Graham, Miss. Margaret Edith   \n",
       "886          889         0       3  Johnston, Miss. Catherine Helen \"Carrie\"   \n",
       "887          890         1       1                     Behr, Mr. Karl Howell   \n",
       "888          891         0       3                       Dooley, Mr. Patrick   \n",
       "\n",
       "        Sex   Age  SibSp  Parch      Ticket   Fare Cabin Embarked  \n",
       "884    male  27.0      0      0      211536  13.00   NaN        S  \n",
       "885  female  19.0      0      0      112053  30.00   B42        S  \n",
       "886  female  45.0      1      2  W./C. 6607  23.45   NaN        S  \n",
       "887    male  26.0      0      0      111369  30.00  C148        C  \n",
       "888    male  32.0      0      0      370376   7.75   NaN        Q  "
      ]
     },
     "execution_count": 42,
     "metadata": {},
     "output_type": "execute_result"
    }
   ],
   "source": [
    "dataset=pd.read_csv(\"train.csv\")\n",
    "dataset.tail()"
   ]
  },
  {
   "cell_type": "code",
   "execution_count": 43,
   "metadata": {},
   "outputs": [
    {
     "name": "stdout",
     "output_type": "stream",
     "text": [
      "<class 'pandas.core.frame.DataFrame'>\n",
      "RangeIndex: 889 entries, 0 to 888\n",
      "Data columns (total 12 columns):\n",
      " #   Column       Non-Null Count  Dtype  \n",
      "---  ------       --------------  -----  \n",
      " 0   PassengerId  889 non-null    int64  \n",
      " 1   Survived     889 non-null    int64  \n",
      " 2   Pclass       889 non-null    int64  \n",
      " 3   Name         889 non-null    object \n",
      " 4   Sex          889 non-null    object \n",
      " 5   Age          889 non-null    float64\n",
      " 6   SibSp        889 non-null    int64  \n",
      " 7   Parch        889 non-null    int64  \n",
      " 8   Ticket       889 non-null    object \n",
      " 9   Fare         889 non-null    float64\n",
      " 10  Cabin        202 non-null    object \n",
      " 11  Embarked     889 non-null    object \n",
      "dtypes: float64(2), int64(5), object(5)\n",
      "memory usage: 83.5+ KB\n"
     ]
    }
   ],
   "source": [
    "dataset.info()"
   ]
  },
  {
   "cell_type": "code",
   "execution_count": 44,
   "metadata": {},
   "outputs": [],
   "source": [
    "from sklearn import preprocessing\n",
    "from sklearn.model_selection import train_test_split\n",
    "from sklearn.metrics import accuracy_score\n",
    "from sklearn.metrics import confusion_matrix\n",
    "le=preprocessing.LabelEncoder()\n",
    "dataset['Sex']=le.fit_transform(dataset['Sex'])\n",
    "dataset['Embarked']=le.fit_transform(dataset['Embarked'])\n"
   ]
  },
  {
   "cell_type": "code",
   "execution_count": 45,
   "metadata": {},
   "outputs": [],
   "source": [
    "from sklearn import neighbors\n",
    "import numpy as np"
   ]
  },
  {
   "cell_type": "code",
   "execution_count": 46,
   "metadata": {},
   "outputs": [],
   "source": [
    "y=dataset['Pclass']\n",
    "X=dataset.drop(['Pclass','PassengerId','Name','Ticket','Cabin'],axis=1)"
   ]
  },
  {
   "cell_type": "code",
   "execution_count": 47,
   "metadata": {},
   "outputs": [],
   "source": [
    " X_train,X_test,y_train,y_test=train_test_split(X,y,test_size=0.2,random_state=0)"
   ]
  },
  {
   "cell_type": "code",
   "execution_count": 48,
   "metadata": {},
   "outputs": [
    {
     "data": {
      "text/plain": [
       "178"
      ]
     },
     "execution_count": 48,
     "metadata": {},
     "output_type": "execute_result"
    }
   ],
   "source": [
    "y_test.size"
   ]
  },
  {
   "cell_type": "code",
   "execution_count": 70,
   "metadata": {},
   "outputs": [],
   "source": [
    "score_list=[]"
   ]
  },
  {
   "cell_type": "code",
   "execution_count": 71,
   "metadata": {},
   "outputs": [],
   "source": [
    "for i in range(1,y_test.size):\n",
    "    knn=neighbors.KNeighborsClassifier(n_neighbors=i)\n",
    "    scr=knn.fit(X_train,y_train).score(X_test,y_test)\n",
    "    score_list.append(scr)"
   ]
  },
  {
   "cell_type": "code",
   "execution_count": 72,
   "metadata": {},
   "outputs": [
    {
     "name": "stdout",
     "output_type": "stream",
     "text": [
      "[0.8707865168539326, 0.8595505617977528, 0.8764044943820225, 0.8370786516853933, 0.848314606741573, 0.8426966292134831, 0.8314606741573034, 0.8089887640449438, 0.8314606741573034, 0.8370786516853933, 0.8089887640449438, 0.8370786516853933, 0.8258426966292135, 0.8314606741573034, 0.8258426966292135, 0.8314606741573034, 0.8258426966292135, 0.8202247191011236, 0.8089887640449438, 0.8146067415730337, 0.797752808988764, 0.8089887640449438, 0.8146067415730337, 0.8033707865168539, 0.8089887640449438, 0.8089887640449438, 0.7865168539325843, 0.797752808988764, 0.7865168539325843, 0.797752808988764, 0.7808988764044944, 0.7808988764044944, 0.7752808988764045, 0.7752808988764045, 0.7752808988764045, 0.7808988764044944, 0.7752808988764045, 0.7752808988764045, 0.7752808988764045, 0.7808988764044944, 0.7808988764044944, 0.7865168539325843, 0.7696629213483146, 0.7696629213483146, 0.7696629213483146, 0.7640449438202247, 0.7696629213483146, 0.7752808988764045, 0.7696629213483146, 0.7640449438202247, 0.7640449438202247, 0.7640449438202247, 0.7584269662921348, 0.7584269662921348, 0.7584269662921348, 0.7528089887640449, 0.7528089887640449, 0.7415730337078652, 0.7359550561797753, 0.7528089887640449, 0.7528089887640449, 0.7471910112359551, 0.7471910112359551, 0.7415730337078652, 0.7415730337078652, 0.7471910112359551, 0.7415730337078652, 0.7415730337078652, 0.7415730337078652, 0.7415730337078652, 0.7415730337078652, 0.7247191011235955, 0.7303370786516854, 0.7415730337078652, 0.7471910112359551, 0.7471910112359551, 0.7528089887640449, 0.7471910112359551, 0.7471910112359551, 0.7471910112359551, 0.7471910112359551, 0.7415730337078652, 0.7415730337078652, 0.7359550561797753, 0.7415730337078652, 0.7303370786516854, 0.7303370786516854, 0.7247191011235955, 0.7303370786516854, 0.7303370786516854, 0.7303370786516854, 0.7303370786516854, 0.7303370786516854, 0.7359550561797753, 0.7303370786516854, 0.7247191011235955, 0.7303370786516854, 0.7303370786516854, 0.7303370786516854, 0.7247191011235955, 0.7247191011235955, 0.7247191011235955, 0.7247191011235955, 0.7247191011235955, 0.7247191011235955, 0.7247191011235955, 0.7247191011235955, 0.7303370786516854, 0.7303370786516854, 0.7303370786516854, 0.7303370786516854, 0.7303370786516854, 0.7303370786516854, 0.7303370786516854, 0.7303370786516854, 0.7303370786516854, 0.7359550561797753, 0.7359550561797753, 0.7303370786516854, 0.7191011235955056, 0.7247191011235955, 0.7191011235955056, 0.7247191011235955, 0.7191011235955056, 0.7191011235955056, 0.7247191011235955, 0.7247191011235955, 0.7303370786516854, 0.7359550561797753, 0.7359550561797753, 0.7359550561797753, 0.7303370786516854, 0.7359550561797753, 0.7303370786516854, 0.7247191011235955, 0.7134831460674157, 0.7134831460674157, 0.7134831460674157, 0.7247191011235955, 0.7191011235955056, 0.7134831460674157, 0.7191011235955056, 0.7247191011235955, 0.7191011235955056, 0.7247191011235955, 0.7247191011235955, 0.7191011235955056, 0.7247191011235955, 0.7191011235955056, 0.7247191011235955, 0.7247191011235955, 0.7247191011235955, 0.7247191011235955, 0.7247191011235955, 0.7247191011235955, 0.7247191011235955, 0.7247191011235955, 0.7247191011235955, 0.7303370786516854, 0.7359550561797753, 0.7359550561797753, 0.7359550561797753, 0.7359550561797753, 0.7359550561797753, 0.7359550561797753, 0.7359550561797753, 0.7359550561797753, 0.7359550561797753, 0.7359550561797753, 0.7247191011235955, 0.7359550561797753, 0.7303370786516854, 0.7303370786516854, 0.7303370786516854, 0.7303370786516854, 0.7303370786516854, 0.7303370786516854]\n"
     ]
    }
   ],
   "source": [
    "print(score_list)"
   ]
  },
  {
   "cell_type": "code",
   "execution_count": 81,
   "metadata": {},
   "outputs": [
    {
     "name": "stdout",
     "output_type": "stream",
     "text": [
      "Value of k:\n",
      "3\n",
      "Accuracy percentage:\n",
      "87.64044943820225\n"
     ]
    }
   ],
   "source": [
    "print(\"Value of k:\")\n",
    "k=score_list.index(max(score_list))+1\n",
    "print(k)\n",
    "print(\"Accuracy percentage:\")\n",
    "print((max(score_list))*100)\n"
   ]
  },
  {
   "cell_type": "code",
   "execution_count": 80,
   "metadata": {},
   "outputs": [
    {
     "data": {
      "text/plain": [
       "array([[41,  6,  0],\n",
       "       [ 4, 26,  5],\n",
       "       [ 5,  2, 89]], dtype=int64)"
      ]
     },
     "execution_count": 80,
     "metadata": {},
     "output_type": "execute_result"
    }
   ],
   "source": [
    "knn=neighbors.KNeighborsClassifier(n_neighbors=k)\n",
    "knn.fit(X_train,y_train).score(X_test,y_test)\n",
    "y_pred=knn.predict(X_test)\n",
    "confusion_matrix(y_test,y_pred)"
   ]
  },
  {
   "cell_type": "markdown",
   "metadata": {},
   "source": [
    "#### Correct= 156 entries(87.64%)\n",
    "#### Incorrect= 22 entries"
   ]
  }
 ],
 "metadata": {
  "kernelspec": {
   "display_name": "Python 3",
   "language": "python",
   "name": "python3"
  },
  "language_info": {
   "codemirror_mode": {
    "name": "ipython",
    "version": 3
   },
   "file_extension": ".py",
   "mimetype": "text/x-python",
   "name": "python",
   "nbconvert_exporter": "python",
   "pygments_lexer": "ipython3",
   "version": "3.8.5"
  }
 },
 "nbformat": 4,
 "nbformat_minor": 4
}
