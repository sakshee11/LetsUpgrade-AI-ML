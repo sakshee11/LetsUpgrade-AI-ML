{
 "cells": [
  {
   "cell_type": "markdown",
   "metadata": {},
   "source": [
    "# Que "
   ]
  },
  {
   "cell_type": "code",
   "execution_count": 35,
   "metadata": {},
   "outputs": [
    {
     "name": "stdout",
     "output_type": "stream",
     "text": [
      "2\n",
      "3\n",
      "5\n",
      "7\n",
      "11\n",
      "13\n",
      "17\n",
      "19\n",
      "23\n",
      "29\n",
      "31\n",
      "37\n",
      "41\n",
      "43\n",
      "47\n",
      "53\n",
      "59\n",
      "61\n",
      "67\n",
      "71\n",
      "73\n"
     ]
    }
   ],
   "source": [
    "count=0 \n",
    "def is_prime(num):\n",
    "    global count\n",
    "    for i in range (2,num):\n",
    "        if num%i==0:\n",
    "            break\n",
    "    else:\n",
    "        if count<21:\n",
    "            count=count+1\n",
    "            print(num)\n",
    "for i in range(2,100,1):\n",
    "    is_prime(i)"
   ]
  },
  {
   "cell_type": "markdown",
   "metadata": {},
   "source": [
    "# Que"
   ]
  },
  {
   "cell_type": "code",
   "execution_count": 67,
   "metadata": {},
   "outputs": [
    {
     "name": "stdout",
     "output_type": "stream",
     "text": [
      "msg_3--I am good\n",
      "s--    \n",
      "t(contains a tab at last)--j\t\n",
      "u--,,,,,rrttggyhello....rrr\n",
      "1-Capitalize for msg_3: I am good\n",
      "2-CenterAlign for msg_3: ----I am good-----\n",
      "3-EndsWith for msg_3: True\n",
      "4-Find for msg_3: 8\n",
      "5-IsAlphanumeric for msg_3: False\n",
      "6-IsDigit for msg_3: False\n",
      "7-IsSpace for t: True\n",
      "8-LeftJustify for msg_3 with 20 spaces: I am good           \n",
      "9-RightJustify for msg_3 with 20 spaces:            I am good\n",
      "10-Replace for msg_3 GOOD TO OK: I am ok\n",
      "11-Split string into list for msg_3 : ['I', 'am', 'good']\n",
      "12-swapcase for msg_3 : i AM GOOD\n",
      "13-Strip for u: yhello\n",
      "14-Title ,check for msg_3 : ['I', 'am', 'good']\n",
      "15-IsPrintable, check for t : False\n"
     ]
    }
   ],
   "source": [
    "msg_3=\"I am good\"\n",
    "s=\"    \"\n",
    "t=\"j\\t\"\n",
    "u= \",,,,,rrttggyhello....rrr\"\n",
    "print(\"msg_3--\"+msg_3)\n",
    "print(\"s--\"+s)\n",
    "print(\"t(contains a tab at last)--\"+t)\n",
    "print(\"u--\"+u)\n",
    "print(\"1-Capitalize for msg_3:\",msg_3.capitalize())\n",
    "print(\"2-CenterAlign for msg_3:\",msg_3.center(18,\"-\"))\n",
    "print(\"3-EndsWith for msg_3:\",msg_3.endswith(\"d\"))\n",
    "print(\"4-Find for msg_3:\",msg_3.find(\"d\"))\n",
    "print(\"5-IsAlphanumeric for msg_3:\",msg_3.isalnum())\n",
    "print(\"6-IsDigit for msg_3:\",msg_3.isdigit())\n",
    "print(\"7-IsSpace for t:\",s.isspace())\n",
    "print(\"8-LeftJustify for msg_3 with 20 spaces:\",msg_3.ljust(20))\n",
    "print(\"9-RightJustify for msg_3 with 20 spaces:\",msg_3.rjust(20))\n",
    "print(\"10-Replace for msg_3 GOOD TO OK:\",msg_3.replace(\"good\",\"ok\"))\n",
    "print(\"11-Split string into list for msg_3 :\",msg_3.split())\n",
    "print(\"12-swapcase for msg_3 :\",msg_3.swapcase())\n",
    "print(\"13-Strip for u:\",u.strip(\".,grt\"))\n",
    "print(\"14-Title ,check for msg_3 :\",msg_3.split())\n",
    "print(\"15-IsPrintable, check for t :\",t.isprintable())"
   ]
  },
  {
   "cell_type": "markdown",
   "metadata": {},
   "source": [
    "# Que"
   ]
  },
  {
   "cell_type": "code",
   "execution_count": 11,
   "metadata": {},
   "outputs": [
    {
     "name": "stdout",
     "output_type": "stream",
     "text": [
      "Enter String 1:hry\n",
      "Enter String 2:ooo\n",
      "None\n"
     ]
    }
   ],
   "source": [
    "def is_palindrome(string1):\n",
    "    return string1==string1[::-1]\n",
    "\n",
    "def is_anagram(string1,string2):\n",
    "    \n",
    "    return sorted(string1)==sorted(string2)\n",
    "            \n",
    "          \n",
    "string1 = input(\"Enter String 1:\")\n",
    "string2 = input(\"Enter String 2:\")\n",
    "a = is_palintrome(string1)\n",
    "b = is_anagram(string1,string2)\n",
    "if a:\n",
    "    print(\"Palintrome\")\n",
    "if b:\n",
    "    print(\"Anagram\")\n",
    "else:\n",
    "    print(\"None\")\n",
    "\n"
   ]
  },
  {
   "cell_type": "markdown",
   "metadata": {},
   "source": [
    "# Que"
   ]
  },
  {
   "cell_type": "code",
   "execution_count": 20,
   "metadata": {},
   "outputs": [
    {
     "name": "stdout",
     "output_type": "stream",
     "text": [
      "String:ghg@A\n",
      "ghga\n"
     ]
    }
   ],
   "source": [
    "u = input(\"String:\")\n",
    "v=\"\"\n",
    "for item in u :\n",
    "   \n",
    "    if (item >= 'A' and item <= 'Z') or (item >= 'a' and item <= 'z'): \n",
    "        v=v+i\n",
    "w = v.lower() \n",
    "print(w)"
   ]
  }
 ],
 "metadata": {
  "kernelspec": {
   "display_name": "Python 3",
   "language": "python",
   "name": "python3"
  },
  "language_info": {
   "codemirror_mode": {
    "name": "ipython",
    "version": 3
   },
   "file_extension": ".py",
   "mimetype": "text/x-python",
   "name": "python",
   "nbconvert_exporter": "python",
   "pygments_lexer": "ipython3",
   "version": "3.7.6"
  },
  "toc": {
   "base_numbering": 1,
   "nav_menu": {},
   "number_sections": true,
   "sideBar": true,
   "skip_h1_title": false,
   "title_cell": "Table of Contents",
   "title_sidebar": "Contents",
   "toc_cell": false,
   "toc_position": {},
   "toc_section_display": true,
   "toc_window_display": false
  }
 },
 "nbformat": 4,
 "nbformat_minor": 4
}
