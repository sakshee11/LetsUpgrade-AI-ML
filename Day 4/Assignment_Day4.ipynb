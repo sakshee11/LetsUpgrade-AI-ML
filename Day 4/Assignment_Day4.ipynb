{
 "cells": [
  {
   "cell_type": "markdown",
   "metadata": {},
   "source": [
    "# Que 1"
   ]
  },
  {
   "cell_type": "code",
   "execution_count": 1,
   "metadata": {},
   "outputs": [
    {
     "name": "stdout",
     "output_type": "stream",
     "text": [
      "Addition= (3+3j)\n",
      "Subtraction= (-1-1j)\n",
      "Multiplication= 4j\n",
      "Division= (0.5+0j)\n"
     ]
    }
   ],
   "source": [
    "\"\"\"We can use addition, subtraction, multiplication and floor division but not modulo operation with complex numbers \"\"\"\n",
    "a = 1+1j\n",
    "b = 2+2j\n",
    "c = a+b\n",
    "d = a-b\n",
    "e = a*b\n",
    "f = a/b\n",
    "print(\"Addition=\",c)\n",
    "print(\"Subtraction=\",d)\n",
    "print(\"Multiplication=\",e)\n",
    "print(\"Division=\",f)\n"
   ]
  },
  {
   "cell_type": "markdown",
   "metadata": {},
   "source": [
    "# Que 2"
   ]
  },
  {
   "cell_type": "markdown",
   "metadata": {},
   "source": [
    "Using range() function we can get a sequence of numbers with a definate start and end point. Morever, we can also set the step in it. This is mostly used when we want to carry out an operation within a specified limit. \n",
    "Syntax: range(start, stop, step)"
   ]
  },
  {
   "cell_type": "code",
   "execution_count": 5,
   "metadata": {},
   "outputs": [
    {
     "name": "stdout",
     "output_type": "stream",
     "text": [
      "0\n",
      "1\n",
      "2\n",
      "3\n",
      "4\n",
      "5\n",
      "6\n",
      "7\n",
      "8\n",
      "9\n"
     ]
    }
   ],
   "source": [
    "a = range(10)\n",
    "for x in a:\n",
    "    print(x)"
   ]
  },
  {
   "cell_type": "markdown",
   "metadata": {},
   "source": [
    "Observe that 10 is not printed that means the stop value is not included. And if start value is not mentioned then it starts with 0.\n",
    "\n",
    "We can use step also though it is not a compulsary attribute"
   ]
  },
  {
   "cell_type": "code",
   "execution_count": 6,
   "metadata": {},
   "outputs": [
    {
     "name": "stdout",
     "output_type": "stream",
     "text": [
      "1\n",
      "3\n",
      "5\n",
      "7\n",
      "9\n"
     ]
    }
   ],
   "source": [
    "a = range(1, 10, 2)\n",
    "for x in a:\n",
    "    print(x)"
   ]
  },
  {
   "cell_type": "markdown",
   "metadata": {},
   "source": [
    "# Que 3"
   ]
  },
  {
   "cell_type": "code",
   "execution_count": 8,
   "metadata": {},
   "outputs": [
    {
     "name": "stdout",
     "output_type": "stream",
     "text": [
      "Div - Sub less than 25: 2.0\n"
     ]
    }
   ],
   "source": [
    "a = 20\n",
    "b = 10\n",
    "if a-b>25:\n",
    "    print(\"Mul - Sub more than 25:\",a*b)\n",
    "else:\n",
    "    print(\"Div - Sub less than 25:\",a/b)"
   ]
  },
  {
   "cell_type": "markdown",
   "metadata": {},
   "source": [
    "# Que 4"
   ]
  },
  {
   "cell_type": "code",
   "execution_count": 14,
   "metadata": {},
   "outputs": [
    {
     "name": "stdout",
     "output_type": "stream",
     "text": [
      "Square of that number minus 2: 2\n",
      "Square of that number minus 2: 14\n",
      "Square of that number minus 2: 34\n",
      "Square of that number minus 2: 62\n",
      "Square of that number minus 2: 98\n"
     ]
    }
   ],
   "source": [
    "i = [1,2,3,4,5,6,7,8,9,10]\n",
    "for x in i:\n",
    "    if x%2==0:\n",
    "        print(\"Square of that number minus 2:\",x**2-2)"
   ]
  },
  {
   "cell_type": "markdown",
   "metadata": {},
   "source": [
    "# Que 5"
   ]
  },
  {
   "cell_type": "code",
   "execution_count": 16,
   "metadata": {},
   "outputs": [
    {
     "name": "stdout",
     "output_type": "stream",
     "text": [
      "92\n",
      "18\n",
      "76\n",
      "43\n"
     ]
    }
   ],
   "source": [
    "i = [1,3,92,7,9,18,7,5,76,43]\n",
    "for x in i:\n",
    "    c=x/2\n",
    "    if c>7:\n",
    "        print(x)"
   ]
  }
 ],
 "metadata": {
  "kernelspec": {
   "display_name": "Python 3",
   "language": "python",
   "name": "python3"
  },
  "language_info": {
   "codemirror_mode": {
    "name": "ipython",
    "version": 3
   },
   "file_extension": ".py",
   "mimetype": "text/x-python",
   "name": "python",
   "nbconvert_exporter": "python",
   "pygments_lexer": "ipython3",
   "version": "3.7.6"
  }
 },
 "nbformat": 4,
 "nbformat_minor": 4
}
