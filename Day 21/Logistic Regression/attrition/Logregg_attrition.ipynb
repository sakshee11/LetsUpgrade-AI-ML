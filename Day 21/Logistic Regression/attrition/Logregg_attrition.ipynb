{
 "cells": [
  {
   "cell_type": "code",
   "execution_count": 38,
   "metadata": {},
   "outputs": [
    {
     "data": {
      "text/plain": [
       "Age                        0\n",
       "Attrition                  0\n",
       "BusinessTravel             0\n",
       "Department                 0\n",
       "DistanceFromHome           0\n",
       "Education                  0\n",
       "EducationField             0\n",
       "EmployeeCount              0\n",
       "EmployeeID                 0\n",
       "Gender                     0\n",
       "JobLevel                   0\n",
       "JobRole                    0\n",
       "MaritalStatus              0\n",
       "MonthlyIncome              0\n",
       "NumCompaniesWorked         0\n",
       "Over18                     0\n",
       "PercentSalaryHike          0\n",
       "StandardHours              0\n",
       "StockOptionLevel           0\n",
       "TotalWorkingYears          0\n",
       "TrainingTimesLastYear      0\n",
       "YearsAtCompany             0\n",
       "YearsSinceLastPromotion    0\n",
       "YearsWithCurrManager       0\n",
       "dtype: int64"
      ]
     },
     "execution_count": 38,
     "metadata": {},
     "output_type": "execute_result"
    }
   ],
   "source": [
    "import os\n",
    "os.chdir(r\"C:\\Users\\User\\Downloads\")\n",
    "import pandas as pd\n",
    "dataset=pd.read_excel(\"general_data.xlsx\",sheet_name=0)\n",
    "dataset.head()\n",
    "dataset=dataset.dropna()\n",
    "dataset.isna().sum()"
   ]
  },
  {
   "cell_type": "code",
   "execution_count": 39,
   "metadata": {},
   "outputs": [],
   "source": [
    "y=dataset.Attrition"
   ]
  },
  {
   "cell_type": "code",
   "execution_count": 40,
   "metadata": {},
   "outputs": [
    {
     "data": {
      "text/plain": [
       "Index(['Age', 'Attrition', 'BusinessTravel', 'Department', 'DistanceFromHome',\n",
       "       'Education', 'EducationField', 'EmployeeCount', 'EmployeeID', 'Gender',\n",
       "       'JobLevel', 'JobRole', 'MaritalStatus', 'MonthlyIncome',\n",
       "       'NumCompaniesWorked', 'Over18', 'PercentSalaryHike', 'StandardHours',\n",
       "       'StockOptionLevel', 'TotalWorkingYears', 'TrainingTimesLastYear',\n",
       "       'YearsAtCompany', 'YearsSinceLastPromotion', 'YearsWithCurrManager'],\n",
       "      dtype='object')"
      ]
     },
     "execution_count": 40,
     "metadata": {},
     "output_type": "execute_result"
    }
   ],
   "source": [
    "dataset.columns"
   ]
  },
  {
   "cell_type": "code",
   "execution_count": 43,
   "metadata": {},
   "outputs": [],
   "source": [
    "x=dataset[['Age', \n",
    "       'Education', 'EmployeeCount', \n",
    "       'JobLevel', 'MonthlyIncome',\n",
    "       'PercentSalaryHike', \n",
    "       'TotalWorkingYears', 'TrainingTimesLastYear',\n",
    "       'YearsAtCompany', 'YearsSinceLastPromotion', 'YearsWithCurrManager']]"
   ]
  },
  {
   "cell_type": "code",
   "execution_count": 44,
   "metadata": {},
   "outputs": [],
   "source": [
    "import statsmodels.api as sm\n",
    "x1=sm.add_constant(x)\n"
   ]
  },
  {
   "cell_type": "code",
   "execution_count": 45,
   "metadata": {},
   "outputs": [],
   "source": [
    "log=sm.Logit(y,x1)"
   ]
  },
  {
   "cell_type": "code",
   "execution_count": 46,
   "metadata": {},
   "outputs": [
    {
     "name": "stdout",
     "output_type": "stream",
     "text": [
      "Optimization terminated successfully.\n",
      "         Current function value: 0.410582\n",
      "         Iterations 7\n"
     ]
    }
   ],
   "source": [
    "result=log.fit()"
   ]
  },
  {
   "cell_type": "code",
   "execution_count": 47,
   "metadata": {},
   "outputs": [
    {
     "data": {
      "text/html": [
       "<table class=\"simpletable\">\n",
       "<caption>Logit Regression Results</caption>\n",
       "<tr>\n",
       "  <th>Dep. Variable:</th>       <td>Attrition</td>    <th>  No. Observations:  </th>  <td>  4382</td>  \n",
       "</tr>\n",
       "<tr>\n",
       "  <th>Model:</th>                 <td>Logit</td>      <th>  Df Residuals:      </th>  <td>  4371</td>  \n",
       "</tr>\n",
       "<tr>\n",
       "  <th>Method:</th>                 <td>MLE</td>       <th>  Df Model:          </th>  <td>    10</td>  \n",
       "</tr>\n",
       "<tr>\n",
       "  <th>Date:</th>            <td>Fri, 07 Aug 2020</td> <th>  Pseudo R-squ.:     </th>  <td>0.06926</td> \n",
       "</tr>\n",
       "<tr>\n",
       "  <th>Time:</th>                <td>22:40:39</td>     <th>  Log-Likelihood:    </th> <td> -1799.2</td> \n",
       "</tr>\n",
       "<tr>\n",
       "  <th>converged:</th>             <td>True</td>       <th>  LL-Null:           </th> <td> -1933.1</td> \n",
       "</tr>\n",
       "<tr>\n",
       "  <th>Covariance Type:</th>     <td>nonrobust</td>    <th>  LLR p-value:       </th> <td>9.866e-52</td>\n",
       "</tr>\n",
       "</table>\n",
       "<table class=\"simpletable\">\n",
       "<tr>\n",
       "             <td></td>                <th>coef</th>     <th>std err</th>      <th>z</th>      <th>P>|z|</th>  <th>[0.025</th>    <th>0.975]</th>  \n",
       "</tr>\n",
       "<tr>\n",
       "  <th>Age</th>                     <td>   -0.0297</td> <td>    0.007</td> <td>   -4.457</td> <td> 0.000</td> <td>   -0.043</td> <td>   -0.017</td>\n",
       "</tr>\n",
       "<tr>\n",
       "  <th>Education</th>               <td>   -0.0562</td> <td>    0.041</td> <td>   -1.357</td> <td> 0.175</td> <td>   -0.137</td> <td>    0.025</td>\n",
       "</tr>\n",
       "<tr>\n",
       "  <th>EmployeeCount</th>           <td>    0.5747</td> <td>    0.332</td> <td>    1.730</td> <td> 0.084</td> <td>   -0.076</td> <td>    1.226</td>\n",
       "</tr>\n",
       "<tr>\n",
       "  <th>JobLevel</th>                <td>   -0.0404</td> <td>    0.039</td> <td>   -1.038</td> <td> 0.299</td> <td>   -0.117</td> <td>    0.036</td>\n",
       "</tr>\n",
       "<tr>\n",
       "  <th>MonthlyIncome</th>           <td> -2.34e-06</td> <td> 9.41e-07</td> <td>   -2.487</td> <td> 0.013</td> <td>-4.18e-06</td> <td>-4.96e-07</td>\n",
       "</tr>\n",
       "<tr>\n",
       "  <th>PercentSalaryHike</th>       <td>    0.0165</td> <td>    0.011</td> <td>    1.441</td> <td> 0.150</td> <td>   -0.006</td> <td>    0.039</td>\n",
       "</tr>\n",
       "<tr>\n",
       "  <th>TotalWorkingYears</th>       <td>   -0.0365</td> <td>    0.011</td> <td>   -3.392</td> <td> 0.001</td> <td>   -0.058</td> <td>   -0.015</td>\n",
       "</tr>\n",
       "<tr>\n",
       "  <th>TrainingTimesLastYear</th>   <td>   -0.1265</td> <td>    0.034</td> <td>   -3.667</td> <td> 0.000</td> <td>   -0.194</td> <td>   -0.059</td>\n",
       "</tr>\n",
       "<tr>\n",
       "  <th>YearsAtCompany</th>          <td>   -0.0213</td> <td>    0.017</td> <td>   -1.232</td> <td> 0.218</td> <td>   -0.055</td> <td>    0.013</td>\n",
       "</tr>\n",
       "<tr>\n",
       "  <th>YearsSinceLastPromotion</th> <td>    0.1258</td> <td>    0.020</td> <td>    6.262</td> <td> 0.000</td> <td>    0.086</td> <td>    0.165</td>\n",
       "</tr>\n",
       "<tr>\n",
       "  <th>YearsWithCurrManager</th>    <td>   -0.1284</td> <td>    0.021</td> <td>   -5.988</td> <td> 0.000</td> <td>   -0.170</td> <td>   -0.086</td>\n",
       "</tr>\n",
       "</table>"
      ],
      "text/plain": [
       "<class 'statsmodels.iolib.summary.Summary'>\n",
       "\"\"\"\n",
       "                           Logit Regression Results                           \n",
       "==============================================================================\n",
       "Dep. Variable:              Attrition   No. Observations:                 4382\n",
       "Model:                          Logit   Df Residuals:                     4371\n",
       "Method:                           MLE   Df Model:                           10\n",
       "Date:                Fri, 07 Aug 2020   Pseudo R-squ.:                 0.06926\n",
       "Time:                        22:40:39   Log-Likelihood:                -1799.2\n",
       "converged:                       True   LL-Null:                       -1933.1\n",
       "Covariance Type:            nonrobust   LLR p-value:                 9.866e-52\n",
       "===========================================================================================\n",
       "                              coef    std err          z      P>|z|      [0.025      0.975]\n",
       "-------------------------------------------------------------------------------------------\n",
       "Age                        -0.0297      0.007     -4.457      0.000      -0.043      -0.017\n",
       "Education                  -0.0562      0.041     -1.357      0.175      -0.137       0.025\n",
       "EmployeeCount               0.5747      0.332      1.730      0.084      -0.076       1.226\n",
       "JobLevel                   -0.0404      0.039     -1.038      0.299      -0.117       0.036\n",
       "MonthlyIncome            -2.34e-06   9.41e-07     -2.487      0.013   -4.18e-06   -4.96e-07\n",
       "PercentSalaryHike           0.0165      0.011      1.441      0.150      -0.006       0.039\n",
       "TotalWorkingYears          -0.0365      0.011     -3.392      0.001      -0.058      -0.015\n",
       "TrainingTimesLastYear      -0.1265      0.034     -3.667      0.000      -0.194      -0.059\n",
       "YearsAtCompany             -0.0213      0.017     -1.232      0.218      -0.055       0.013\n",
       "YearsSinceLastPromotion     0.1258      0.020      6.262      0.000       0.086       0.165\n",
       "YearsWithCurrManager       -0.1284      0.021     -5.988      0.000      -0.170      -0.086\n",
       "===========================================================================================\n",
       "\"\"\""
      ]
     },
     "execution_count": 47,
     "metadata": {},
     "output_type": "execute_result"
    }
   ],
   "source": [
    "result.summary()"
   ]
  },
  {
   "cell_type": "code",
   "execution_count": null,
   "metadata": {},
   "outputs": [],
   "source": []
  }
 ],
 "metadata": {
  "kernelspec": {
   "display_name": "Python 3",
   "language": "python",
   "name": "python3"
  },
  "language_info": {
   "codemirror_mode": {
    "name": "ipython",
    "version": 3
   },
   "file_extension": ".py",
   "mimetype": "text/x-python",
   "name": "python",
   "nbconvert_exporter": "python",
   "pygments_lexer": "ipython3",
   "version": "3.7.6"
  }
 },
 "nbformat": 4,
 "nbformat_minor": 4
}
